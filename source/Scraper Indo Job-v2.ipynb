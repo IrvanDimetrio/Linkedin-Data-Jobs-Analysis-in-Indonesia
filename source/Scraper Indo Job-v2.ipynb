{
 "cells": [
  {
   "cell_type": "code",
   "execution_count": 1,
   "id": "bbc969f3",
   "metadata": {},
   "outputs": [],
   "source": [
    "from selenium import webdriver\n",
    "import time\n",
    "from selenium.webdriver.common.keys import Keys\n",
    "import pandas as pd\n",
    "from selenium.webdriver.common.by import By\n",
    "from datetime import datetime"
   ]
  },
  {
   "cell_type": "markdown",
   "id": "840a731e-df46-4f37-a904-3db75797fe7d",
   "metadata": {},
   "source": [
    "## Opening browser"
   ]
  },
  {
   "cell_type": "code",
   "execution_count": 2,
   "id": "4c9b9705",
   "metadata": {},
   "outputs": [
    {
     "name": "stderr",
     "output_type": "stream",
     "text": [
      "d:\\jupyter notebook project\\kaggle\\venv\\lib\\site-packages\\ipykernel_launcher.py:3: DeprecationWarning: executable_path has been deprecated, please pass in a Service object\n",
      "  This is separate from the ipykernel package so we can avoid doing imports until\n",
      "d:\\jupyter notebook project\\kaggle\\venv\\lib\\site-packages\\ipykernel_launcher.py:14: DeprecationWarning: find_element_by_xpath is deprecated. Please use find_element(by=By.XPATH, value=xpath) instead\n",
      "  \n",
      "d:\\jupyter notebook project\\kaggle\\venv\\lib\\site-packages\\ipykernel_launcher.py:15: DeprecationWarning: find_element_by_xpath is deprecated. Please use find_element(by=By.XPATH, value=xpath) instead\n",
      "  from ipykernel import kernelapp as app\n",
      "d:\\jupyter notebook project\\kaggle\\venv\\lib\\site-packages\\ipykernel_launcher.py:22: DeprecationWarning: find_element_by_xpath is deprecated. Please use find_element(by=By.XPATH, value=xpath) instead\n"
     ]
    }
   ],
   "source": [
    "# Define browser and action setup\n",
    "PATH = \"C:\\Program Files (x86)\\Chromedriver\\chromedriver.exe\"\n",
    "driver = webdriver.Chrome(executable_path=PATH)\n",
    "\n",
    "#Maximizing browser window to avoid hidden elements\n",
    "driver.set_window_size(1024, 600)\n",
    "driver.maximize_window()\n",
    "\n",
    "## Opening linkedin website\n",
    "driver.get('https://www.linkedin.com/login')\n",
    "## waiting load\n",
    "time.sleep(2)\n",
    "\n",
    "username = driver.find_element_by_xpath(\"//input[@name='session_key']\")\n",
    "password = driver.find_element_by_xpath(\"//input[@name='session_password']\")\n",
    "\n",
    "username.send_keys(\"<username>\")\n",
    "password.send_keys(\"<password>\")\n",
    "\n",
    "time.sleep(2)\n",
    "\n",
    "submit = driver.find_element_by_xpath(\"//button[@type='submit']\").click()\n",
    "time.sleep(2)"
   ]
  },
  {
   "cell_type": "code",
   "execution_count": 3,
   "id": "5bcfc782",
   "metadata": {},
   "outputs": [],
   "source": [
    "# Define URL\n",
    "linkedin_url = \"https://www.linkedin.com/jobs/search/?keywords=data%20analyst&location=Indonesia\"\n",
    "\n",
    "linkedin_url_2 = \"https://www.linkedin.com/jobs/search/?keywords=Data%20Analyst&location=Indonesia&locationId=&geoId=102478259&f_TPR=r2592000&position=1&pageNum=0\"\n",
    "\n",
    "linkedin_url_3 = \"https://www.linkedin.com/jobs/search/?keywords=data%20science&location=Indonesia\"\n",
    "# getting the search webpage\n",
    "driver.get(linkedin_url_3)\n",
    "## wait while loading\n",
    "time.sleep(3)"
   ]
  },
  {
   "cell_type": "markdown",
   "id": "0e8ab7eb-1d7a-43a0-b55b-5dd89f6b4e52",
   "metadata": {},
   "source": [
    "## Get job list from every page "
   ]
  },
  {
   "cell_type": "code",
   "execution_count": 4,
   "id": "7288d4ae",
   "metadata": {
    "scrolled": false
   },
   "outputs": [
    {
     "name": "stderr",
     "output_type": "stream",
     "text": [
      "d:\\jupyter notebook project\\kaggle\\venv\\lib\\site-packages\\ipykernel_launcher.py:18: DeprecationWarning: find_element_by_xpath is deprecated. Please use find_element(by=By.XPATH, value=xpath) instead\n",
      "d:\\jupyter notebook project\\kaggle\\venv\\lib\\site-packages\\ipykernel_launcher.py:23: DeprecationWarning: find_element_by_class_name is deprecated. Please use find_element(by=By.CLASS_NAME, value=name) instead\n",
      "d:\\jupyter notebook project\\kaggle\\venv\\lib\\site-packages\\selenium\\webdriver\\remote\\webelement.py:464: UserWarning: find_elements_by_class_name is deprecated. Please use find_elements(by=By.CLASS_NAME, value=name) instead\n",
      "  warnings.warn(\"find_elements_by_class_name is deprecated. Please use find_elements(by=By.CLASS_NAME, value=name) instead\")\n"
     ]
    },
    {
     "ename": "NoSuchElementException",
     "evalue": "Message: no such element: Unable to locate element: {\"method\":\"xpath\",\"selector\":\"/html/body/div[6]/div[3]/div[3]/div[2]/div/section[1]/div/div/ul/li[1]/div/div/div/div/a\"}\n  (Session info: chrome=103.0.5060.114)\nStacktrace:\nBacktrace:\n\tOrdinal0 [0x00DF6463+2188387]\n\tOrdinal0 [0x00D8E461+1762401]\n\tOrdinal0 [0x00CA3D78+802168]\n\tOrdinal0 [0x00CD1880+989312]\n\tOrdinal0 [0x00CD1B1B+989979]\n\tOrdinal0 [0x00CFE912+1173778]\n\tOrdinal0 [0x00CEC824+1099812]\n\tOrdinal0 [0x00CFCC22+1166370]\n\tOrdinal0 [0x00CEC5F6+1099254]\n\tOrdinal0 [0x00CC6BE0+945120]\n\tOrdinal0 [0x00CC7AD6+948950]\n\tGetHandleVerifier [0x010971F2+2712546]\n\tGetHandleVerifier [0x0108886D+2652765]\n\tGetHandleVerifier [0x00E8002A+520730]\n\tGetHandleVerifier [0x00E7EE06+516086]\n\tOrdinal0 [0x00D9468B+1787531]\n\tOrdinal0 [0x00D98E88+1805960]\n\tOrdinal0 [0x00D98F75+1806197]\n\tOrdinal0 [0x00DA1DF1+1842673]\n\tBaseThreadInitThunk [0x7653FA29+25]\n\tRtlGetAppContainerNamedObjectPath [0x77AE75F4+228]\n\tRtlGetAppContainerNamedObjectPath [0x77AE75C4+180]\n",
     "output_type": "error",
     "traceback": [
      "\u001b[1;31m---------------------------------------------------------------------------\u001b[0m",
      "\u001b[1;31mNoSuchElementException\u001b[0m                    Traceback (most recent call last)",
      "\u001b[1;32mD:\\TEMPUSER\\Temp\\ipykernel_2992\\3262274208.py\u001b[0m in \u001b[0;36m<module>\u001b[1;34m\u001b[0m\n\u001b[0;32m     38\u001b[0m         \u001b[1;31m# driver.find_element(By.XPATH, f'/html/body/div[7]/div[3]/div[3]/div[2]/div/section[1]/div/div/ul/li[{job}]/div/div/div/div/a').click()\u001b[0m\u001b[1;33m\u001b[0m\u001b[1;33m\u001b[0m\u001b[1;33m\u001b[0m\u001b[0m\n\u001b[0;32m     39\u001b[0m \u001b[1;33m\u001b[0m\u001b[0m\n\u001b[1;32m---> 40\u001b[1;33m         \u001b[0mdriver\u001b[0m\u001b[1;33m.\u001b[0m\u001b[0mfind_element\u001b[0m\u001b[1;33m(\u001b[0m\u001b[0mBy\u001b[0m\u001b[1;33m.\u001b[0m\u001b[0mXPATH\u001b[0m\u001b[1;33m,\u001b[0m \u001b[1;34mf'/html/body/div[6]/div[3]/div[3]/div[2]/div/section[1]/div/div/ul/li[{job}]/div/div/div/div/a'\u001b[0m\u001b[1;33m)\u001b[0m\u001b[1;33m.\u001b[0m\u001b[0mclick\u001b[0m\u001b[1;33m(\u001b[0m\u001b[1;33m)\u001b[0m\u001b[1;33m\u001b[0m\u001b[1;33m\u001b[0m\u001b[0m\n\u001b[0m\u001b[0;32m     41\u001b[0m         \u001b[0mtime\u001b[0m\u001b[1;33m.\u001b[0m\u001b[0msleep\u001b[0m\u001b[1;33m(\u001b[0m\u001b[1;36m2\u001b[0m\u001b[1;33m)\u001b[0m\u001b[1;33m\u001b[0m\u001b[1;33m\u001b[0m\u001b[0m\n\u001b[0;32m     42\u001b[0m         \u001b[0mjob_func1\u001b[0m\u001b[1;33m=\u001b[0m\u001b[1;33m[\u001b[0m\u001b[1;33m]\u001b[0m\u001b[1;33m\u001b[0m\u001b[1;33m\u001b[0m\u001b[0m\n",
      "\u001b[1;32md:\\jupyter notebook project\\kaggle\\venv\\lib\\site-packages\\selenium\\webdriver\\remote\\webdriver.py\u001b[0m in \u001b[0;36mfind_element\u001b[1;34m(self, by, value)\u001b[0m\n\u001b[0;32m   1248\u001b[0m         return self.execute(Command.FIND_ELEMENT, {\n\u001b[0;32m   1249\u001b[0m             \u001b[1;34m'using'\u001b[0m\u001b[1;33m:\u001b[0m \u001b[0mby\u001b[0m\u001b[1;33m,\u001b[0m\u001b[1;33m\u001b[0m\u001b[1;33m\u001b[0m\u001b[0m\n\u001b[1;32m-> 1250\u001b[1;33m             'value': value})['value']\n\u001b[0m\u001b[0;32m   1251\u001b[0m \u001b[1;33m\u001b[0m\u001b[0m\n\u001b[0;32m   1252\u001b[0m     \u001b[1;32mdef\u001b[0m \u001b[0mfind_elements\u001b[0m\u001b[1;33m(\u001b[0m\u001b[0mself\u001b[0m\u001b[1;33m,\u001b[0m \u001b[0mby\u001b[0m\u001b[1;33m=\u001b[0m\u001b[0mBy\u001b[0m\u001b[1;33m.\u001b[0m\u001b[0mID\u001b[0m\u001b[1;33m,\u001b[0m \u001b[0mvalue\u001b[0m\u001b[1;33m=\u001b[0m\u001b[1;32mNone\u001b[0m\u001b[1;33m)\u001b[0m \u001b[1;33m->\u001b[0m \u001b[0mList\u001b[0m\u001b[1;33m[\u001b[0m\u001b[0mWebElement\u001b[0m\u001b[1;33m]\u001b[0m\u001b[1;33m:\u001b[0m\u001b[1;33m\u001b[0m\u001b[1;33m\u001b[0m\u001b[0m\n",
      "\u001b[1;32md:\\jupyter notebook project\\kaggle\\venv\\lib\\site-packages\\selenium\\webdriver\\remote\\webdriver.py\u001b[0m in \u001b[0;36mexecute\u001b[1;34m(self, driver_command, params)\u001b[0m\n\u001b[0;32m    423\u001b[0m         \u001b[0mresponse\u001b[0m \u001b[1;33m=\u001b[0m \u001b[0mself\u001b[0m\u001b[1;33m.\u001b[0m\u001b[0mcommand_executor\u001b[0m\u001b[1;33m.\u001b[0m\u001b[0mexecute\u001b[0m\u001b[1;33m(\u001b[0m\u001b[0mdriver_command\u001b[0m\u001b[1;33m,\u001b[0m \u001b[0mparams\u001b[0m\u001b[1;33m)\u001b[0m\u001b[1;33m\u001b[0m\u001b[1;33m\u001b[0m\u001b[0m\n\u001b[0;32m    424\u001b[0m         \u001b[1;32mif\u001b[0m \u001b[0mresponse\u001b[0m\u001b[1;33m:\u001b[0m\u001b[1;33m\u001b[0m\u001b[1;33m\u001b[0m\u001b[0m\n\u001b[1;32m--> 425\u001b[1;33m             \u001b[0mself\u001b[0m\u001b[1;33m.\u001b[0m\u001b[0merror_handler\u001b[0m\u001b[1;33m.\u001b[0m\u001b[0mcheck_response\u001b[0m\u001b[1;33m(\u001b[0m\u001b[0mresponse\u001b[0m\u001b[1;33m)\u001b[0m\u001b[1;33m\u001b[0m\u001b[1;33m\u001b[0m\u001b[0m\n\u001b[0m\u001b[0;32m    426\u001b[0m             response['value'] = self._unwrap_value(\n\u001b[0;32m    427\u001b[0m                 response.get('value', None))\n",
      "\u001b[1;32md:\\jupyter notebook project\\kaggle\\venv\\lib\\site-packages\\selenium\\webdriver\\remote\\errorhandler.py\u001b[0m in \u001b[0;36mcheck_response\u001b[1;34m(self, response)\u001b[0m\n\u001b[0;32m    245\u001b[0m                 \u001b[0malert_text\u001b[0m \u001b[1;33m=\u001b[0m \u001b[0mvalue\u001b[0m\u001b[1;33m[\u001b[0m\u001b[1;34m'alert'\u001b[0m\u001b[1;33m]\u001b[0m\u001b[1;33m.\u001b[0m\u001b[0mget\u001b[0m\u001b[1;33m(\u001b[0m\u001b[1;34m'text'\u001b[0m\u001b[1;33m)\u001b[0m\u001b[1;33m\u001b[0m\u001b[1;33m\u001b[0m\u001b[0m\n\u001b[0;32m    246\u001b[0m             \u001b[1;32mraise\u001b[0m \u001b[0mexception_class\u001b[0m\u001b[1;33m(\u001b[0m\u001b[0mmessage\u001b[0m\u001b[1;33m,\u001b[0m \u001b[0mscreen\u001b[0m\u001b[1;33m,\u001b[0m \u001b[0mstacktrace\u001b[0m\u001b[1;33m,\u001b[0m \u001b[0malert_text\u001b[0m\u001b[1;33m)\u001b[0m  \u001b[1;31m# type: ignore[call-arg]  # mypy is not smart enough here\u001b[0m\u001b[1;33m\u001b[0m\u001b[1;33m\u001b[0m\u001b[0m\n\u001b[1;32m--> 247\u001b[1;33m         \u001b[1;32mraise\u001b[0m \u001b[0mexception_class\u001b[0m\u001b[1;33m(\u001b[0m\u001b[0mmessage\u001b[0m\u001b[1;33m,\u001b[0m \u001b[0mscreen\u001b[0m\u001b[1;33m,\u001b[0m \u001b[0mstacktrace\u001b[0m\u001b[1;33m)\u001b[0m\u001b[1;33m\u001b[0m\u001b[1;33m\u001b[0m\u001b[0m\n\u001b[0m\u001b[0;32m    248\u001b[0m \u001b[1;33m\u001b[0m\u001b[0m\n\u001b[0;32m    249\u001b[0m     \u001b[1;32mdef\u001b[0m \u001b[0m_value_or_default\u001b[0m\u001b[1;33m(\u001b[0m\u001b[0mself\u001b[0m\u001b[1;33m,\u001b[0m \u001b[0mobj\u001b[0m\u001b[1;33m:\u001b[0m \u001b[0mMapping\u001b[0m\u001b[1;33m[\u001b[0m\u001b[0m_KT\u001b[0m\u001b[1;33m,\u001b[0m \u001b[0m_VT\u001b[0m\u001b[1;33m]\u001b[0m\u001b[1;33m,\u001b[0m \u001b[0mkey\u001b[0m\u001b[1;33m:\u001b[0m \u001b[0m_KT\u001b[0m\u001b[1;33m,\u001b[0m \u001b[0mdefault\u001b[0m\u001b[1;33m:\u001b[0m \u001b[0m_VT\u001b[0m\u001b[1;33m)\u001b[0m \u001b[1;33m->\u001b[0m \u001b[0m_VT\u001b[0m\u001b[1;33m:\u001b[0m\u001b[1;33m\u001b[0m\u001b[1;33m\u001b[0m\u001b[0m\n",
      "\u001b[1;31mNoSuchElementException\u001b[0m: Message: no such element: Unable to locate element: {\"method\":\"xpath\",\"selector\":\"/html/body/div[6]/div[3]/div[3]/div[2]/div/section[1]/div/div/ul/li[1]/div/div/div/div/a\"}\n  (Session info: chrome=103.0.5060.114)\nStacktrace:\nBacktrace:\n\tOrdinal0 [0x00DF6463+2188387]\n\tOrdinal0 [0x00D8E461+1762401]\n\tOrdinal0 [0x00CA3D78+802168]\n\tOrdinal0 [0x00CD1880+989312]\n\tOrdinal0 [0x00CD1B1B+989979]\n\tOrdinal0 [0x00CFE912+1173778]\n\tOrdinal0 [0x00CEC824+1099812]\n\tOrdinal0 [0x00CFCC22+1166370]\n\tOrdinal0 [0x00CEC5F6+1099254]\n\tOrdinal0 [0x00CC6BE0+945120]\n\tOrdinal0 [0x00CC7AD6+948950]\n\tGetHandleVerifier [0x010971F2+2712546]\n\tGetHandleVerifier [0x0108886D+2652765]\n\tGetHandleVerifier [0x00E8002A+520730]\n\tGetHandleVerifier [0x00E7EE06+516086]\n\tOrdinal0 [0x00D9468B+1787531]\n\tOrdinal0 [0x00D98E88+1805960]\n\tOrdinal0 [0x00D98F75+1806197]\n\tOrdinal0 [0x00DA1DF1+1842673]\n\tBaseThreadInitThunk [0x7653FA29+25]\n\tRtlGetAppContainerNamedObjectPath [0x77AE75F4+228]\n\tRtlGetAppContainerNamedObjectPath [0x77AE75C4+180]\n"
     ]
    }
   ],
   "source": [
    "# creating lists for different job information \n",
    "job_id= []\n",
    "job_title = []\n",
    "company_name = []\n",
    "city = []\n",
    "region=[]\n",
    "country=[]\n",
    "date = []\n",
    "seniority = []\n",
    "emp_type = []\n",
    "industries = []\n",
    "skills=[]\n",
    "\n",
    "# get job list from every page \n",
    "for i in range(1,41):\n",
    "    ## scroll down pages\n",
    "    \n",
    "    driver.find_element_by_xpath(f'//button[@aria-label=\"Page {i}\"]').click()\n",
    "    \n",
    "    # driver.execute_script(\"window.scrollTo(0, document.body.scrollHeight);\")\n",
    "    \n",
    "    ## job list\n",
    "    jobs_lists = driver.find_element_by_class_name('jobs-search-results__list') #here we create a list with jobs\n",
    "    jobs = jobs_lists.find_elements_by_class_name('jobs-search-results__list-item')#here we select each job to count\n",
    "\n",
    "    # date\n",
    "   \n",
    "    \n",
    "    ## waite while loading\n",
    "    time.sleep(2)\n",
    "    \n",
    "    \n",
    "    ## get information for every job in the list \n",
    "    for job in range (1, len(jobs)+1):\n",
    "        driver.switch_to.window(driver.window_handles[0])\n",
    "        ## job click\n",
    "\n",
    "        driver.find_element(By.XPATH, f'/html/body/div[7]/div[3]/div[3]/div[2]/div/section[1]/div/div/ul/li[{job}]/div/div/div/div/a').click()\n",
    "        \n",
    "        time.sleep(2)       \n",
    "        job_func1=[]\n",
    "        industries1=[]\n",
    "        skills2=[]\n",
    "\n",
    "        # job title  /html/body/div[7]/div[3]/div[3]/div[2]/div/section[2]/div/div/div[1]/div/div[1]/div/div[2]/a/h2\n",
    "        job_title1 = driver.find_element(By.XPATH,\"/html/body/div[7]/div[3]/div[3]/div[2]/div/section[2]/div/div/div[1]/div/div[1]/div/div[2]/a/h2\").get_attribute(\"innerText\")\n",
    "        job_title.append(job_title1)\n",
    "        # Company name \n",
    "        company_name1= driver.find_element(By.CSS_SELECTOR,\".jobs-unified-top-card__company-name\").get_attribute(\"innerText\")\n",
    "        company_name.append(company_name1)\n",
    "        # location: seperate into city, region and country \n",
    "        location1 = driver.find_element(By.CSS_SELECTOR,\".jobs-unified-top-card__subtitle-primary-grouping > span:nth-child(2)\").get_attribute(\"innerText\").split(\",\")\n",
    "        if len(location1)==3: \n",
    "            city.append(location1[0])\n",
    "            region.append(location1[1])\n",
    "            country.append(location1[2])\n",
    "        elif len(location1)==2:\n",
    "            city.append(\"n/a\")\n",
    "            region.append(location1[0])\n",
    "            country.append(location1[1])\n",
    "        else:\n",
    "            city.append(\"n/a\")\n",
    "            region.append(\"n/a\")\n",
    "            country.append(location1[0])\n",
    "        \n",
    "        #Employment type / seniority \n",
    "        time.sleep(2) \n",
    "        emp_type_path = \"/html/body/div[7]/div[3]/div[3]/div[2]/div/section[2]/div/div/div[1]/div/div[1]/div/div[1]/div[1]/div[2]/ul/li[1]/span\"\n",
    "        emp_type1 = driver.find_element(By.XPATH, emp_type_path).get_attribute(\"innerText\")\n",
    "        emp_type.append(emp_type1)\n",
    "        \n",
    "        # Industries\n",
    "\n",
    "        industries_path = \"/html/body/div[7]/div[3]/div[3]/div[2]/div/section[2]/div/div/div[1]/div/div[1]/div/div[1]/div[1]/div[2]/ul/li[2]/span\"\n",
    "        industries_elements = driver.find_elements(By.XPATH,industries_path)\n",
    "        for element in industries_elements:\n",
    "            industries1.append(element.get_attribute(\"innerText\"))\n",
    "            industries_final = \" \".join(industries1)\n",
    "            industries.append(industries_final)\n",
    "        \n",
    "        \n",
    "        #skills                            \n",
    "        skills1= driver.find_elements(By.CSS_SELECTOR,\".jobs-description__content\")\n",
    "\n",
    "        for skill in skills1:\n",
    "            \n",
    "            skills2.append(skill.text)\n",
    "            skills_final=\" \".join(skills2)\n",
    "            skills.append( skills_final)\n",
    "            "
   ]
  },
  {
   "cell_type": "markdown",
   "id": "0fa280ee",
   "metadata": {},
   "source": [
    "## Save Data"
   ]
  },
  {
   "cell_type": "code",
   "execution_count": 5,
   "id": "f5e90505",
   "metadata": {},
   "outputs": [
    {
     "name": "stdout",
     "output_type": "stream",
     "text": [
      "data successfully stored \n"
     ]
    }
   ],
   "source": [
    "jobs = {\n",
    "'Company': company_name,\n",
    "'Title': job_title,\n",
    "'City': city,\n",
    "'Region': region,\n",
    "'Country':country,\n",
    "'Level': seniority,\n",
    "'Type': emp_type,\n",
    "'Requirements': skills,\n",
    "'Industry': industries,\n",
    "}\n",
    "data = pd.DataFrame.from_dict(jobs, orient='index')\n",
    "data= data.transpose()\n",
    "# remove comma \n",
    "\n",
    "\n",
    "#save dataframe to excel\n",
    "data.to_excel('D:\\Documents\\Portofolio\\linkedinJobs\\DataScienceJobs.xlsx', index = False)  \n",
    "print(\"data successfully stored \") "
   ]
  }
 ],
 "metadata": {
  "kernelspec": {
   "display_name": "kaggle-venv",
   "language": "python",
   "name": "kaggle-venv"
  },
  "language_info": {
   "codemirror_mode": {
    "name": "ipython",
    "version": 3
   },
   "file_extension": ".py",
   "mimetype": "text/x-python",
   "name": "python",
   "nbconvert_exporter": "python",
   "pygments_lexer": "ipython3",
   "version": "3.7.7"
  }
 },
 "nbformat": 4,
 "nbformat_minor": 5
}
