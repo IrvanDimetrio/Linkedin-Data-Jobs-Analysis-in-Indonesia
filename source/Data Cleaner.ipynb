{
 "cells": [
  {
   "cell_type": "code",
   "execution_count": 1,
   "id": "b523034b",
   "metadata": {},
   "outputs": [],
   "source": [
    "import pandas as pd \n",
    "import numpy as np \n",
    "import re"
   ]
  },
  {
   "cell_type": "code",
   "execution_count": 9,
   "id": "cf778926",
   "metadata": {},
   "outputs": [],
   "source": [
    "def clean(file):\n",
    "\n",
    "    # data= pd.read_excel(file)\n",
    "    data= pd.read_csv(file, delimiter=\",\")\n",
    "    \n",
    "    # Remove Commas, semi-colons and line breaks\n",
    "    patterns=[\n",
    "                    '\\n',\n",
    "                    ';',\n",
    "                    ',',\n",
    "                    ]\n",
    "\n",
    "    data= data.replace( [e for e in patterns] , ' ', regex=True)\n",
    "    # remove irrelevent data from industry column \n",
    "    data['Industry'] = data['Industry'].str.replace(\"^(.+?)·\",'',regex=True)\n",
    "    # delete salary information from type: $15.50/hr - $17/hr \n",
    "    data['Type']=data['Type'].str.replace(\"\\$.+?·\", \"\",regex=True)\n",
    "\n",
    "    # move job level information from type to level column : [Full-time . associate] ==> [full-time] [associate]\n",
    "    #level column \n",
    "    data[['Type', 'Level']] = data['Type'].str.split('·', 1, expand=True)\n",
    "    \n",
    "\n",
    "    #save to excel\n",
    "\n",
    "    # output=\"D:\\Documents\\Portofolio\\linkedinJobs\\DataAnalystJobs_clean.xlsx\"\n",
    "    \n",
    "    output=\"D:\\Documents\\Portofolio\\linkedinJobs\\DataScienceJobs v.2 clean.csv\"\n",
    "    data.to_csv(output)\n",
    "    return f\"data saved to {output}\""
   ]
  },
  {
   "cell_type": "code",
   "execution_count": 10,
   "id": "a696ef6d",
   "metadata": {},
   "outputs": [
    {
     "name": "stdout",
     "output_type": "stream",
     "text": [
      "data saved to D:\\Documents\\Portofolio\\linkedinJobs\\DataScienceJobs v.2 clean.csv\n"
     ]
    }
   ],
   "source": [
    "dataFile='D:\\Documents\\Portofolio\\linkedinJobs\\DataScienceJobs v.2.csv'\n",
    "print(clean(dataFile))"
   ]
  },
  {
   "cell_type": "code",
   "execution_count": 2,
   "id": "e7750978",
   "metadata": {},
   "outputs": [],
   "source": [
    "read_file = pd.read_excel (r'D:\\Documents\\Portofolio\\linkedinJobs\\DataScienceJobs v.2.xlsx')\n",
    "read_file.to_csv (r'D:\\Documents\\Portofolio\\linkedinJobs\\DataScienceJobs v.2.csv', index = None, header=True)"
   ]
  },
  {
   "cell_type": "code",
   "execution_count": 11,
   "id": "f0e69878",
   "metadata": {},
   "outputs": [],
   "source": [
    "read_file = pd.read_csv (r'D:\\Documents\\Portofolio\\linkedinJobs\\DataScienceJobs v.2 clean.csv')\n",
    "read_file.to_excel (r'D:\\Documents\\Portofolio\\linkedinJobs\\DataScienceJobs v.2 clean.xlsx', index = None, header=True)"
   ]
  }
 ],
 "metadata": {
  "kernelspec": {
   "display_name": "kaggle-venv",
   "language": "python",
   "name": "kaggle-venv"
  },
  "language_info": {
   "codemirror_mode": {
    "name": "ipython",
    "version": 3
   },
   "file_extension": ".py",
   "mimetype": "text/x-python",
   "name": "python",
   "nbconvert_exporter": "python",
   "pygments_lexer": "ipython3",
   "version": "3.7.7"
  }
 },
 "nbformat": 4,
 "nbformat_minor": 5
}
